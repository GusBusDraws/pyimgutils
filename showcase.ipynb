{
 "cells": [
  {
   "cell_type": "markdown",
   "metadata": {},
   "source": [
    "# Import necessary packages"
   ]
  },
  {
   "cell_type": "code",
   "execution_count": 1,
   "metadata": {},
   "outputs": [],
   "source": [
    "# Include so all modules are re-imported before any cell is executed. \n",
    "# This is so custom modules do not have to be manually reloaded if changed.\n",
    "%load_ext autoreload\n",
    "%autoreload 2\n",
    "\n",
    "# Import standard packaged\n",
    "import os\n",
    "import sys\n",
    "\n",
    "# Import third party packages\n",
    "from datetime import datetime\n",
    "\n",
    "# Add parent directory to locations checked for custom modules \n",
    "# (necessary for Jupyter Notebook sessions that are not started in the parent directory)\n",
    "module_path = os.path.abspath(os.path.join('.\\pyimgutils'))\n",
    "if module_path not in sys.path:\n",
    "    sys.path.append(module_path)\n",
    "    \n",
    "# Import custom packages\n",
    "from pyimgutils import seq_funcs"
   ]
  },
  {
   "cell_type": "code",
   "execution_count": 2,
   "metadata": {},
   "outputs": [
    {
     "name": "stdout",
     "output_type": "stream",
     "text": [
      "T E S T I N G . . .\n"
     ]
    }
   ],
   "source": [
    "seq_funcs.test()"
   ]
  },
  {
   "cell_type": "code",
   "execution_count": null,
   "metadata": {},
   "outputs": [],
   "source": []
  }
 ],
 "metadata": {
  "kernelspec": {
   "display_name": "Python 3",
   "language": "python",
   "name": "python3"
  },
  "language_info": {
   "codemirror_mode": {
    "name": "ipython",
    "version": 3
   },
   "file_extension": ".py",
   "mimetype": "text/x-python",
   "name": "python",
   "nbconvert_exporter": "python",
   "pygments_lexer": "ipython3",
   "version": "3.8.3"
  }
 },
 "nbformat": 4,
 "nbformat_minor": 4
}
